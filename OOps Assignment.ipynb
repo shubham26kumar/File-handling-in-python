{
 "cells": [
  {
   "cell_type": "markdown",
   "id": "8f446cd1-f078-4e35-b1e0-5eddc14a9652",
   "metadata": {},
   "source": [
    "Q1. Which function is used to open a file? What are the different modes of opening a file? Explain each mode \n",
    "of file opening."
   ]
  },
  {
   "cell_type": "markdown",
   "id": "73f956f7-9aa9-4d84-a633-f74583fe389f",
   "metadata": {},
   "source": [
    "Ans:- Files in Python can be opened with a built-in open() function. Ideally, it takes two string arguments:\n",
    "\n",
    "1. The file path including the file name and the extension we want to open, is to be passed as a string\n",
    "\n",
    "2. The mode in which we want to open the file, to be passed as a string.\n",
    "\n",
    "Thus, the syntax for opening a file would look like this:\n",
    "\n",
    "open(\"\", \"\").\n",
    "Python has a wide range of file opening modes, these are:-\n",
    "\n",
    "1. In ‘r’ mode, the file opens in the read mode. By default, if we don’t specify the mode argument, it will be treated as read or ‘r’ mode. For Example, To open our file myfile.txt in ‘r’ mode:\n",
    "\n",
    "open(\"myfile.txt\") or open(\"myfile.txt\", \"r\")\n",
    "2. In the ‘w’ mode, the file opens in write mode. It removes existing content, if present, in the file. If the specified file doesn’t exist, it creates one with the specified name. For Example, To open our file myfile.txt in ‘w’ mode:\n",
    "\n",
    "open(\"myfile.txt\", \"w\")\n",
    "3. In the ‘a’ mode, the file opens in append mode. It adds content to an existing file (or append at the end of the file). If the specified file doesn’t exist, it creates one with the specified name. It does not remove the existing content from the file. For Example, To open our file myfile.txt in ‘a’ mode:\n",
    "\n",
    "open(\"myfile.txt\", \"a\")\n",
    "4. In the ‘r+’ mode, the file opens in the read & write mode. It does not remove existing content, if present, in the file and does not create a file if not present in the directory. For Example, To open our file myfile.txt in ‘r+‘ mode:\n",
    "open(\"myfile.txt\", \"r+\")\n",
    "5. In the ‘w+’ mode, open the file in the read & write mode & remove existing content. If the file doesn’t exist, it creates a new one. It does not remove existing content & if a file doesn’t exist, it creates a new one. For Example, To open our file myfile.txt in ‘w+’ mode:\n",
    "\n",
    "open(\"myfile.txt\", \"w+\")\n",
    "6. In the ‘a+’ mode, the file opens in the read & append mode. It does not remove existing content & If the file doesn’t exist, it creates a new one. For Example, To open our file myfile.txt in a+ mode:\n",
    "\n",
    "open(\"myfile.txt\", \"a+\").\n"
   ]
  },
  {
   "cell_type": "markdown",
   "id": "982869fa-f60c-447c-b0e1-58d70b6eccbe",
   "metadata": {},
   "source": [
    "Q2. Why close() function is used? Why is it important to close a file?"
   ]
  },
  {
   "cell_type": "markdown",
   "id": "bd8857d1-5fa5-4ddc-a2be-ff5a5977273b",
   "metadata": {},
   "source": [
    "Ans:- The close() method closes an open file.\n",
    "\n",
    "we should always close our files, in some cases, due to buffering, changes made to a file may not show until you close the file.Though with Python the file is automatically closed when the reference object of the file is allocated to another file, as a standard it is appreciated to close an opened file as it reduces the risk of being unwarrantedly modified or read."
   ]
  },
  {
   "cell_type": "markdown",
   "id": "73a9d5e1-8678-49b1-b204-9e51fdf610b6",
   "metadata": {},
   "source": [
    "Q3. Write a python program to create a text file. Write ‘I want to become a Data Scientist’ in that file. Then \n",
    "close the file. Open this file and read the content of the file.  "
   ]
  },
  {
   "cell_type": "code",
   "execution_count": 1,
   "id": "c14d1043-2ab5-42ea-8acd-c8fb9d10fb2b",
   "metadata": {},
   "outputs": [],
   "source": [
    "f = open(\"shubham.txt\", \"w\")"
   ]
  },
  {
   "cell_type": "code",
   "execution_count": 2,
   "id": "7a97f19b-13f3-450d-a1f7-b957a74dff2f",
   "metadata": {},
   "outputs": [
    {
     "data": {
      "text/plain": [
       "33"
      ]
     },
     "execution_count": 2,
     "metadata": {},
     "output_type": "execute_result"
    }
   ],
   "source": [
    "f.write(\"I want to become a Data scientist\")"
   ]
  },
  {
   "cell_type": "code",
   "execution_count": 3,
   "id": "40916e0b-2e22-4f36-9a09-ab919c4b402d",
   "metadata": {},
   "outputs": [],
   "source": [
    "f.close()"
   ]
  },
  {
   "cell_type": "code",
   "execution_count": 4,
   "id": "736f1493-456c-4a6c-9ceb-451a91a934c8",
   "metadata": {},
   "outputs": [],
   "source": [
    "f = open(\"shubham.txt\", \"r\")"
   ]
  },
  {
   "cell_type": "code",
   "execution_count": 5,
   "id": "514bd962-4ebd-4b8c-96b4-649d6e42d689",
   "metadata": {},
   "outputs": [
    {
     "data": {
      "text/plain": [
       "'I want to become a Data scientist'"
      ]
     },
     "execution_count": 5,
     "metadata": {},
     "output_type": "execute_result"
    }
   ],
   "source": [
    "f.read()"
   ]
  },
  {
   "cell_type": "markdown",
   "id": "c5043e65-8061-4797-aa66-edbbd5a0279b",
   "metadata": {},
   "source": [
    "Q4. Explain the following with python code: read(), readline() and readlines()."
   ]
  },
  {
   "cell_type": "markdown",
   "id": "1198e758-6a15-4068-9988-e67574cdba9b",
   "metadata": {},
   "source": [
    "The read() method returns the specified number of bytes from the file. Default is -1 which means the whole file."
   ]
  },
  {
   "cell_type": "code",
   "execution_count": 8,
   "id": "edbcc8a9-4e9b-4ecb-bc37-80af09f46980",
   "metadata": {},
   "outputs": [],
   "source": [
    "f = open(\"saurav.txt\", \"r\")"
   ]
  },
  {
   "cell_type": "code",
   "execution_count": 9,
   "id": "2a409dfc-3be8-49d5-bed2-cc6ffe371d41",
   "metadata": {},
   "outputs": [
    {
     "data": {
      "text/plain": [
       "'this is my first filethis is shubham'"
      ]
     },
     "execution_count": 9,
     "metadata": {},
     "output_type": "execute_result"
    }
   ],
   "source": [
    "f.read()"
   ]
  },
  {
   "cell_type": "markdown",
   "id": "aa51580f-9347-483d-b766-28643602ab71",
   "metadata": {},
   "source": [
    "The readline() method returns one line from the file."
   ]
  },
  {
   "cell_type": "code",
   "execution_count": 10,
   "id": "5e737631-f516-42a7-9e27-def63b7f2946",
   "metadata": {},
   "outputs": [],
   "source": [
    "data = open(\"saurav.txt\", \"r\")"
   ]
  },
  {
   "cell_type": "code",
   "execution_count": 11,
   "id": "8a4d104a-7dd9-4eab-a96d-fe4ffbf7e0a4",
   "metadata": {},
   "outputs": [
    {
     "data": {
      "text/plain": [
       "'this is my first filethis is shubham'"
      ]
     },
     "execution_count": 11,
     "metadata": {},
     "output_type": "execute_result"
    }
   ],
   "source": [
    "data.readline()"
   ]
  },
  {
   "cell_type": "markdown",
   "id": "5187c301-407f-499c-a744-a6e440179d6e",
   "metadata": {},
   "source": [
    "The readlines() method returns a list containing each line in the file as a list item."
   ]
  },
  {
   "cell_type": "code",
   "execution_count": null,
   "id": "4fd35011-40f4-47bf-8691-1ec394a91288",
   "metadata": {},
   "outputs": [],
   "source": []
  },
  {
   "cell_type": "markdown",
   "id": "99f13702-4ba1-4811-a50d-ac6282a25c94",
   "metadata": {},
   "source": [
    "Ans :- "
   ]
  },
  {
   "cell_type": "markdown",
   "id": "0139a8de-14d0-482f-8e77-f128de4ef6dc",
   "metadata": {},
   "source": [
    "Q5. Explain why with statement is used with open(). What is the advantage of using with statement and \n",
    "open() together?"
   ]
  },
  {
   "cell_type": "markdown",
   "id": "8b1752ad-0422-4c8f-a1b3-fc9fb482bc0d",
   "metadata": {},
   "source": [
    "Ans :- The with statement works with the open() function to open a file.\n",
    "Unlike open() where we have to close the file with the close() method, the with statement closes the file for us without  telling it to.\n",
    "\n",
    "This is because the with statement calls 2 built-in methods behind the scene – __enter()__ and __exit()__.\n",
    "\n",
    "The __exit()__ method closes the file when the operation you specify is done.\n",
    "\n"
   ]
  },
  {
   "cell_type": "markdown",
   "id": "8f0ce479-b63b-417a-911c-bf8cc235acde",
   "metadata": {},
   "source": [
    "Q6. Explain the write() and writelines() functions. Give a suitable example."
   ]
  },
  {
   "cell_type": "markdown",
   "id": "9466a97b-1b6b-4f3b-b380-ca305e04d80d",
   "metadata": {},
   "source": [
    "Ans :- Write() method displays the output but do not provide a new line character.\n",
    "\n",
    "WriteLine() method displays the output and also provides a new line character it the end of the string, This would set a new line for the next output.\n",
    "file.writelines(list)\n",
    "The writelines method takes a list of strings or bytes as an argument and appends it to the file depending on the file mode specified earlier. The syntax of the python write method is similar to the writelines method. See the example below:\n",
    "\n",
    "file.write(byte)\n",
    "The write method takes text or byte object as an argument and appends it to the file."
   ]
  }
 ],
 "metadata": {
  "kernelspec": {
   "display_name": "Python 3 (ipykernel)",
   "language": "python",
   "name": "python3"
  },
  "language_info": {
   "codemirror_mode": {
    "name": "ipython",
    "version": 3
   },
   "file_extension": ".py",
   "mimetype": "text/x-python",
   "name": "python",
   "nbconvert_exporter": "python",
   "pygments_lexer": "ipython3",
   "version": "3.10.8"
  }
 },
 "nbformat": 4,
 "nbformat_minor": 5
}
